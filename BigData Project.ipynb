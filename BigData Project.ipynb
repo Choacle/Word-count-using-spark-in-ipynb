{
 "cells": [
  {
   "cell_type": "code",
   "execution_count": 1,
   "id": "b915198e",
   "metadata": {},
   "outputs": [],
   "source": [
    "import time\n",
    "start = time.time()\n",
    "%config IPCompleter.greedy=True\n",
    "import findspark\n",
    "findspark.init()\n",
    "from pyspark import SparkConf\n",
    "from pyspark import SparkContext\n",
    "import re"
   ]
  },
  {
   "cell_type": "code",
   "execution_count": 2,
   "id": "44efd78e",
   "metadata": {},
   "outputs": [],
   "source": [
    "conf=SparkConf().setMaster(\"local[*]\").setAppName(\"171805056_FerhatKamalı\")\n",
    "sc = SparkContext.getOrCreate(conf=conf) "
   ]
  },
  {
   "cell_type": "code",
   "execution_count": 3,
   "id": "1fb57893",
   "metadata": {},
   "outputs": [
    {
     "name": "stdout",
     "output_type": "stream",
     "text": [
      "Hostname :   DESKTOP-3B92UP2\n",
      "IP :  192.168.1.105\n"
     ]
    }
   ],
   "source": [
    "import socket\n",
    "host_name = socket.gethostname()\n",
    "host_ip = socket.gethostbyname(host_name)\n",
    "print(\"Hostname :  \",host_name)\n",
    "print(\"IP : \",host_ip)"
   ]
  },
  {
   "cell_type": "code",
   "execution_count": 4,
   "id": "7f5c550a",
   "metadata": {},
   "outputs": [],
   "source": [
    "rdd = sc.textFile('C:/Users/Ferhat/Desktop/Projeler/BigData/124MB.txt')"
   ]
  },
  {
   "cell_type": "code",
   "execution_count": 5,
   "id": "d8654ddf",
   "metadata": {},
   "outputs": [],
   "source": [
    "import string\n",
    "puncs = string.punctuation\n",
    "\n",
    "def isdigit(text):\n",
    "    if(text >= '0' and text <= '9'):\n",
    "        return True\n",
    "    else:\n",
    "        return False\n",
    "\n",
    "def ispunc(text):\n",
    "    for i in puncs:\n",
    "        if text == i:\n",
    "            return True\n",
    "    return False\n",
    "\n",
    "def normalization(text):\n",
    "    text = text.split(\" \")\n",
    "    results = []\n",
    "    for i in range(len(text)-1):\n",
    "        if text[i] != '' and isdigit(text[i]) == False and ispunc(text[i]) == False:\n",
    "            text[i] = text[i].lower()\n",
    "            results.append(text[i])    \n",
    "            \n",
    "    return results"
   ]
  },
  {
   "cell_type": "code",
   "execution_count": 6,
   "id": "27d791e5",
   "metadata": {},
   "outputs": [],
   "source": [
    "words = rdd.flatMap(normalization)\n",
    "wordCount = words.map(lambda word: (word, 1)).reduceByKey(lambda a, b: a+b)\n",
    "wordSort = wordCount.sortBy(lambda a: -a[1])"
   ]
  },
  {
   "cell_type": "code",
   "execution_count": 7,
   "id": "9853fd77",
   "metadata": {},
   "outputs": [
    {
     "data": {
      "text/plain": [
       "396434"
      ]
     },
     "execution_count": 7,
     "metadata": {},
     "output_type": "execute_result"
    }
   ],
   "source": [
    "len(wordSort.collect())"
   ]
  },
  {
   "cell_type": "code",
   "execution_count": 8,
   "id": "43e52f04",
   "metadata": {},
   "outputs": [],
   "source": [
    "firstten = wordSort.collect()[:10]"
   ]
  },
  {
   "cell_type": "code",
   "execution_count": 9,
   "id": "4443c93f",
   "metadata": {},
   "outputs": [],
   "source": [
    "import pickle\n",
    "with open('171805056_output_124MB', 'wb') as f:\n",
    "    pickle.dump(firstten, f)"
   ]
  },
  {
   "cell_type": "code",
   "execution_count": 10,
   "id": "a1916dad",
   "metadata": {},
   "outputs": [],
   "source": [
    "with open('171805056_output_124MB', 'rb') as f:\n",
    "     data = pickle.load(f)"
   ]
  },
  {
   "cell_type": "code",
   "execution_count": 11,
   "id": "8a8260ed",
   "metadata": {},
   "outputs": [
    {
     "name": "stdout",
     "output_type": "stream",
     "text": [
      "Execution time of 124MB is : 32.356290340423584\n"
     ]
    }
   ],
   "source": [
    "end = time.time()\n",
    "print(\"Execution time of 124MB is :\", end-start)"
   ]
  },
  {
   "cell_type": "code",
   "execution_count": 12,
   "id": "348f4e61",
   "metadata": {},
   "outputs": [],
   "source": [
    "start = time.time()"
   ]
  },
  {
   "cell_type": "code",
   "execution_count": 13,
   "id": "039a614f",
   "metadata": {},
   "outputs": [],
   "source": [
    "rdd = sc.textFile('C:/Users/Ferhat/Desktop/Projeler/BigData/12GB.txt')"
   ]
  },
  {
   "cell_type": "code",
   "execution_count": 14,
   "id": "0ebbb9c7",
   "metadata": {},
   "outputs": [],
   "source": [
    "words = rdd.flatMap(normalization)\n",
    "wordCount = words.map(lambda word: (word, 1)).reduceByKey(lambda a, b: a+b)\n",
    "wordSort = wordCount.sortBy(lambda a: -a[1])"
   ]
  },
  {
   "cell_type": "code",
   "execution_count": 15,
   "id": "516a38bc",
   "metadata": {},
   "outputs": [
    {
     "data": {
      "text/plain": [
       "396434"
      ]
     },
     "execution_count": 15,
     "metadata": {},
     "output_type": "execute_result"
    }
   ],
   "source": [
    "len(wordSort.collect())"
   ]
  },
  {
   "cell_type": "code",
   "execution_count": 16,
   "id": "d265a593",
   "metadata": {},
   "outputs": [],
   "source": [
    "firstten = wordSort.collect()[:10]"
   ]
  },
  {
   "cell_type": "code",
   "execution_count": 17,
   "id": "b738aa97",
   "metadata": {},
   "outputs": [],
   "source": [
    "import pickle\n",
    "with open('171805056_output_12GB', 'wb') as f:\n",
    "    pickle.dump(firstten, f)"
   ]
  },
  {
   "cell_type": "code",
   "execution_count": 18,
   "id": "9b32add0",
   "metadata": {},
   "outputs": [],
   "source": [
    "with open('171805056_output_12GB', 'rb') as f:\n",
    "     data = pickle.load(f)"
   ]
  },
  {
   "cell_type": "code",
   "execution_count": 19,
   "id": "f5d47645",
   "metadata": {},
   "outputs": [
    {
     "name": "stdout",
     "output_type": "stream",
     "text": [
      "Execution time of 12GB is : 2094.4371769428253\n"
     ]
    }
   ],
   "source": [
    "end = time.time()\n",
    "print(\"Execution time of 12GB is :\", end-start)"
   ]
  }
 ],
 "metadata": {
  "kernelspec": {
   "display_name": "Python 3 (ipykernel)",
   "language": "python",
   "name": "python3"
  },
  "language_info": {
   "codemirror_mode": {
    "name": "ipython",
    "version": 3
   },
   "file_extension": ".py",
   "mimetype": "text/x-python",
   "name": "python",
   "nbconvert_exporter": "python",
   "pygments_lexer": "ipython3",
   "version": "3.7.4"
  }
 },
 "nbformat": 4,
 "nbformat_minor": 5
}
